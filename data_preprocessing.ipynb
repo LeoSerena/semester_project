{
 "cells": [
  {
   "cell_type": "markdown",
   "metadata": {},
   "source": [
    "## Imports"
   ]
  },
  {
   "cell_type": "code",
   "execution_count": 14,
   "metadata": {},
   "outputs": [],
   "source": [
    "import pandas as pd\n",
    "import numpy as np\n",
    "\n",
    "import nltk\n",
    "\n",
    "import re\n",
    "\n",
    "import spacy"
   ]
  },
  {
   "cell_type": "markdown",
   "metadata": {},
   "source": [
    "#### Reading the File"
   ]
  },
  {
   "cell_type": "code",
   "execution_count": 3,
   "metadata": {},
   "outputs": [
    {
     "name": "stdout",
     "output_type": "stream",
     "text": [
      "Collecting xlrd\n",
      "  Downloading xlrd-1.2.0-py2.py3-none-any.whl (103 kB)\n",
      "Installing collected packages: xlrd\n",
      "Successfully installed xlrd-1.2.0\n"
     ]
    }
   ],
   "source": [
    "!pip install xlrd"
   ]
  },
  {
   "cell_type": "code",
   "execution_count": 4,
   "metadata": {},
   "outputs": [],
   "source": [
    "df = pd.read_excel('Documents.xlsx')"
   ]
  },
  {
   "cell_type": "markdown",
   "metadata": {},
   "source": [
    "#### managing twits lengths"
   ]
  },
  {
   "cell_type": "code",
   "execution_count": 5,
   "metadata": {},
   "outputs": [],
   "source": [
    "df['length'] = [len(x) for x in df['Title']]\n",
    "max_length = int(np.max(df['length']))"
   ]
  },
  {
   "cell_type": "code",
   "execution_count": 6,
   "metadata": {},
   "outputs": [
    {
     "data": {
      "text/plain": [
       "536"
      ]
     },
     "execution_count": 6,
     "metadata": {},
     "output_type": "execute_result"
    }
   ],
   "source": [
    "max_length"
   ]
  },
  {
   "cell_type": "markdown",
   "metadata": {},
   "source": [
    "## Preprocessing"
   ]
  },
  {
   "cell_type": "markdown",
   "metadata": {},
   "source": [
    "#### Managing hyperlinks"
   ]
  },
  {
   "cell_type": "code",
   "execution_count": 7,
   "metadata": {},
   "outputs": [],
   "source": [
    "def get_hyperlinks(text):\n",
    "    ## finds all hyperlinks in the text\n",
    "    return re.findall(r\"http\\S+\", text)\n",
    "\n",
    "def rmv_hyperlink(text):\n",
    "    ## removes all hyperlinks of the text\n",
    "    return re.sub(r\"http\\S+\", \"\", text)\n",
    "\n",
    "\n",
    "df['hyperlinks'] = df['Title'].map(\n",
    "    get_hyperlinks\n",
    ")\n",
    "\n",
    "df['Title'] = df['Title'].map(\n",
    "    rmv_hyperlink\n",
    ")"
   ]
  },
  {
   "cell_type": "markdown",
   "metadata": {},
   "source": [
    "#### Managing hashtags"
   ]
  },
  {
   "cell_type": "code",
   "execution_count": 8,
   "metadata": {},
   "outputs": [],
   "source": [
    "def get_hashtags(text):\n",
    "    ## finds all hashtags of the text\n",
    "    return re.findall(r\"#\\S+\", text)\n",
    "\n",
    "def rmv_hashtags(text):\n",
    "    ## removes all hashtags of the text\n",
    "    return re.sub(r\"#\\S+\", \"\", text)"
   ]
  },
  {
   "cell_type": "code",
   "execution_count": 9,
   "metadata": {},
   "outputs": [],
   "source": [
    "df['hashtags'] = df['Title'].map(\n",
    "    get_hashtags\n",
    ")\n",
    "\n",
    "df['Title'] = df['Title'].map(\n",
    "    rmv_hashtags\n",
    ")"
   ]
  },
  {
   "cell_type": "markdown",
   "metadata": {},
   "source": [
    "#### Managing user references '@'"
   ]
  },
  {
   "cell_type": "code",
   "execution_count": 10,
   "metadata": {},
   "outputs": [],
   "source": [
    "def get_users(text):\n",
    "    return re.findall(r\"@\\S+\", text)"
   ]
  },
  {
   "cell_type": "code",
   "execution_count": 11,
   "metadata": {},
   "outputs": [],
   "source": [
    "df['referenced_users'] = df['Title'].map(\n",
    "    get_users\n",
    ")"
   ]
  },
  {
   "cell_type": "markdown",
   "metadata": {},
   "source": [
    "#### tokenizing in sentences and PoS"
   ]
  },
  {
   "cell_type": "code",
   "execution_count": 16,
   "metadata": {},
   "outputs": [
    {
     "data": {
      "text/plain": [
       "0              [Il a guéri du COVID ou il a tué Thanos ?]\n",
       "1       [les premiers symptômes du coronavirus c’est l...\n",
       "2       [Je souhaite une agréable journée à tout le mo...\n",
       "3                 [Le COVID va bientôt fêter ses 1ans la]\n",
       "4       [Le covid il a passé plus de temps que moi à l...\n",
       "                              ...                        \n",
       "9995    [[ Le taux de positivité chez les patients sym...\n",
       "9996    [La @VilledeGrenoble, via le CCAS, a distribué...\n",
       "9997    [Considérée comme un \"cas contact\", Roselyne B...\n",
       "9998    [Bonjour, test covid très douloureux ce matin....\n",
       "9999    [HAHA\\n\\nUne main apparaît dans le champ de vi...\n",
       "Name: Title, Length: 10000, dtype: object"
      ]
     },
     "execution_count": 16,
     "metadata": {},
     "output_type": "execute_result"
    }
   ],
   "source": [
    "## french PoS:\n",
    "## https://github.com/cmchurch/nltk_french/blob/master/french-nltk.py\n",
    "\n",
    "## https://nlp.stanford.edu/software/CRF-NER.html\n",
    "\n",
    "nlp = spacy.load('fr_core_news_sm')\n",
    "\n",
    "df['Title'].map(\n",
    "    nltk.sent_tokenize\n",
    ")"
   ]
  },
  {
   "cell_type": "code",
   "execution_count": 25,
   "metadata": {},
   "outputs": [
    {
     "name": "stdout",
     "output_type": "stream",
     "text": [
      "--0--\n",
      "Mais ces derniers sont loin d’exclure l’idée que le philosophe s’intéresse à des problèmes théoriques.\n",
      "--1--\n",
      "La « sagesse », ou plus exactement la sophia, que souhaite appréhender le philosophe est aussi un savoir et une connaissance.\n",
      "entity: » || entity label: MISC\n",
      "--2--\n",
      "Le philosophe, dans la lignée de la tradition fondée par Socrate, sait comment il doit vivre ; il peut justifier ses choix et son mode de vie.\n",
      "entity: Socrate || entity label: PER\n",
      "--3--\n",
      "Socrate par exemple, dans les dialogues socratiques de Platon, exige de ses interlocuteurs qu’ils soient à même de donner le logos de leur jugement de valeur et de leur choix, c’est-à-dire de les justifier rationnellement.\n",
      "entity: Socrate || entity label: PER\n",
      "entity: Platon || entity label: PER\n",
      "--4--\n",
      "Cette exigence de rationalité peut même amener à donner des fondements authentiquement scientifiques à la philosophie.\n",
      "--5--\n",
      "Bien sûr la définition de la philosophie en tant que modus vivendi (mode de vie) ne peut prétendre être suffisante pour définir la philosophie dans son ensemble.\n",
      "--6--\n",
      "Bien des philosophes ont compris la philosophie comme un travail intellectuel et non comme un mode de vie : c'est le cas dans le monde universitaire et de la recherche de nos jours.\n",
      "--7--\n",
      "Il en va tout autrement, en Inde notamment.\n",
      "entity: Inde || entity label: LOC\n",
      "--8--\n",
      "Le point de vue occidental ne peut s'appliquer aux concepts philosophiques en vigueur dans cette partie du monde, bien qu'il y eût tentative d'assimilation à l'époque romaine, en particulier avec Plotin.\n",
      "entity: Plotin || entity label: PER\n"
     ]
    }
   ],
   "source": [
    "sample_text = \"\"\"Mais ces derniers sont loin d’exclure l’idée que le philosophe s’intéresse à des problèmes théoriques. La « sagesse », ou plus exactement la sophia, que souhaite appréhender le philosophe est aussi un savoir et une connaissance. Le philosophe, dans la lignée de la tradition fondée par Socrate, sait comment il doit vivre ; il peut justifier ses choix et son mode de vie. Socrate par exemple, dans les dialogues socratiques de Platon, exige de ses interlocuteurs qu’ils soient à même de donner le logos de leur jugement de valeur et de leur choix, c’est-à-dire de les justifier rationnellement. Cette exigence de rationalité peut même amener à donner des fondements authentiquement scientifiques à la philosophie. Bien sûr la définition de la philosophie en tant que modus vivendi (mode de vie) ne peut prétendre être suffisante pour définir la philosophie dans son ensemble. Bien des philosophes ont compris la philosophie comme un travail intellectuel et non comme un mode de vie : c'est le cas dans le monde universitaire et de la recherche de nos jours. Il en va tout autrement, en Inde notamment. Le point de vue occidental ne peut s'appliquer aux concepts philosophiques en vigueur dans cette partie du monde, bien qu'il y eût tentative d'assimilation à l'époque romaine, en particulier avec Plotin.\"\"\"\n",
    "\n",
    "docs = [nlp(s) for s in nltk.sent_tokenize(sample_text)]\n",
    "\n",
    "for (i,doc) in enumerate(docs):\n",
    "    print('--{}--'.format(i))\n",
    "    print(doc)\n",
    "    for entity in doc.ents:\n",
    "        print('entity: {} || entity label: {}'.format(entity, entity.label_))"
   ]
  },
  {
   "cell_type": "markdown",
   "metadata": {},
   "source": [
    "### Creating vocabulary"
   ]
  },
  {
   "cell_type": "markdown",
   "metadata": {},
   "source": [
    "#### Tokenizing and Removing stopwords"
   ]
  },
  {
   "cell_type": "code",
   "execution_count": 44,
   "metadata": {},
   "outputs": [],
   "source": [
    "from nltk.corpus import stopwords\n",
    "\n",
    "stopwords = stopwords.words('french')\n",
    "\n",
    "def rmv_stop_word(tokens):\n",
    "    return [x.lower() for x in tokens if x.lower() not in stopwords]\n",
    "\n",
    "df['Title'] = df['Title'].map(\n",
    "    nltk.word_tokenize\n",
    ").map(\n",
    "    rmv_stop_word\n",
    ")"
   ]
  },
  {
   "cell_type": "markdown",
   "metadata": {},
   "source": [
    "#### Stemming"
   ]
  },
  {
   "cell_type": "code",
   "execution_count": 45,
   "metadata": {},
   "outputs": [],
   "source": [
    "## https://stackoverflow.com/questions/13131139/lemmatize-french-text\n",
    "\n",
    "from nltk.stem.snowball import FrenchStemmer\n",
    "\n",
    "stemmer = FrenchStemmer()\n",
    "\n",
    "def stem(tokens):\n",
    "    return [stemmer.stem(x) for x in tokens]\n",
    "\n",
    "df['Title'] = df['Title'].map(\n",
    "    stem\n",
    ")"
   ]
  },
  {
   "cell_type": "code",
   "execution_count": 46,
   "metadata": {},
   "outputs": [
    {
     "data": {
      "text/plain": [
       "0                      [a, guer, covid, a, tu, thanos, ?]\n",
       "1       [premi, symptôm, coronavirus, ’, pert, goût, h...\n",
       "2       [souhait, agréabl, journ, tout, mond, tout, mo...\n",
       "3                          [covid, va, bientôt, fêt, 1an]\n",
       "4                  [covid, a, pass, plus, temp, fac, con]\n",
       "                              ...                        \n",
       "9995    [[, #, covid19, ], taux, posit, chez, patient,...\n",
       "9996    [@, villedegrenobl, ,, vi, ccas, ,, a, distrib...\n",
       "9997    [consider, comm, ``, cas, contact, '', ,, rose...\n",
       "9998    [bonjour, ,, test, covid, tres, doulour, matin...\n",
       "9999    [hah, main, apparaît, champ, vision, d'alex, ,...\n",
       "Name: Title, Length: 10000, dtype: object"
      ]
     },
     "execution_count": 46,
     "metadata": {},
     "output_type": "execute_result"
    }
   ],
   "source": [
    "df['Title']"
   ]
  },
  {
   "cell_type": "code",
   "execution_count": null,
   "metadata": {},
   "outputs": [],
   "source": []
  }
 ],
 "metadata": {
  "kernelspec": {
   "display_name": "Python 3",
   "language": "python",
   "name": "python3"
  },
  "language_info": {
   "codemirror_mode": {
    "name": "ipython",
    "version": 3
   },
   "file_extension": ".py",
   "mimetype": "text/x-python",
   "name": "python",
   "nbconvert_exporter": "python",
   "pygments_lexer": "ipython3",
   "version": "3.7.9"
  }
 },
 "nbformat": 4,
 "nbformat_minor": 4
}

{
 "cells": [
  {
   "cell_type": "code",
   "execution_count": 11,
   "metadata": {},
   "outputs": [],
   "source": [
    "import os\n",
    "\n",
    "import pandas as pd\n",
    "\n",
    "import numpy as np\n",
    "\n",
    "import gensim\n",
    "\n",
    "import networkx as nx"
   ]
  },
  {
   "cell_type": "code",
   "execution_count": 17,
   "metadata": {},
   "outputs": [],
   "source": [
    "path = 'graphs'\n",
    "\n",
    "graphs = []\n",
    "\n",
    "for name in os.listdir(path):\n",
    "    graphs.append(nx.read_gexf(os.path.join(path, name)))\n",
    "    \n",
    "df = pd.read_csv('clean_wuhan.csv')"
   ]
  },
  {
   "cell_type": "code",
   "execution_count": 30,
   "metadata": {},
   "outputs": [],
   "source": [
    "def tweets_in_graph(G, df):\n",
    "    res = []\n",
    "    author_ids = df['author_id']\n",
    "    tweets = df['body']\n",
    "    for i in range(len(df)):\n",
    "        if str(author_ids[i]) in G.nodes:\n",
    "            res.append(tweets[i])\n",
    "    return res"
   ]
  },
  {
   "cell_type": "code",
   "execution_count": 31,
   "metadata": {},
   "outputs": [
    {
     "data": {
      "text/plain": [
       "[\"@RemDumDum @JulienDive Mettre l'accent sur les biostimulants en agriculture plutôt que sur le génie génétique revient à dire qu'une cure de vitamines est préférable à la recherche d'un vaccin ou d'une thérapie génique... 😕  Est-ce normal ce discours dans ce qui est sensé être un grand pays éclairé?\",\n",
       " \"Ce prix Nobel sur #CRISPR est aussi l'occasion de relire les publications de @RegnaultRoger pour @Fondapol sur le génie génétique.  Notamment :  https://t.co/X7ChlprUCC   et  https://t.co/Og3pyTiXLc\",\n",
       " \"Je me suis empressé de découvrir ces alternatives miracles qui échappent à ces idiots d'agriculteurs (innovation en génétique? molécule nouvelle génération ?). Malencontreusement, ces 'alternatives' n'apparaissent que dans le titre, c'est fâcheux… https://t.co/5wMzetfqnI\",\n",
       " '@BValiorgue @PotierDominique @_MissBetter Faire payer une décision politique par les producteurs. 👿 Puis énoncer des fausses solutions et inversement faire croire les variétés tolérantes vont tomber du ciel (la responsabilité des politiques est importante sur ce dossier. Eux qui ont bloqué le génie génétique). 😕 👿👿👿 https://t.co/40uI78muIp',\n",
       " \"Pour vous donner un ordre d'idée, aujourd'hui la Chine frise presque un lancement tout les 10 jours. On est encore loin du rythme de vol soviétique!  Bien sur ce rythme effréné s'est arrêté avec la chute de l'Union Soviétique. https://t.co/mo8xpBz7vV\",\n",
       " \"'Il faudra de plus en plus être en mesure de rédiger la norme ou devoir s'apprêter à la subir' est inscrit en toutes lettres dans la formation des experts Afnor. Et la Chine en a compris l'importance en reprenant l'organisation de chaque norme Iso délaissée https://t.co/HP2jYCPJYH\",\n",
       " '@rv59268 @xavierbertrand @PatriciaPOUPART @GroupeFDesprez Ces politiques capables de féliciter le prix Nobel pour le génie génétique sans en comprendre les enjeux... 😏  https://t.co/EZd69SFHBp',\n",
       " 'A écouter les 2 minutes de @gernelle qui résume parfaitement la situation où des politiques félicitent une découverte qui touche au génie génétique tout en ayant bloqué sans raison les OGM  Prix Nobel 2020 de Chimie ou le festival de tartufferie politique https://t.co/s3r5ya1wAc',\n",
       " \"@_algorithme @FondationNH Il n'y a pas d'alternative crédible à ce jour.  L'alternative sera la création de variétés tolérantes mais ça va prendre du temps. D'autant plus quand des ONG comme @FondationNH use de lobbying pour interdire le génie génétique qui nous ferait gagner énormément de temps.\",\n",
       " \"@JeanLtw @FondationNH La solution la plus prometteuse, ce sont les variétés tolérantes aux viroses.  Pour les obtenir plus vite, il faudrait du génie génétique contre lequel s'oppose @FondationNH .  Qu'ils prennent leur responsabilité...\",\n",
       " \"@heburt @emma_ducros @helmlinger_m @NatDedieu @dr_l_alexandre @MacLesggy @alexcarre49 @RemDumDum @DominiqueReynie Précisément, le génie génétique permettrait de produire plus avec moins. Moins d’intrants mais aussi moins de surfaces. Or la première menace pour la biodiversité, c'est l'augmentation des surfaces agricoles pour nourrir une population mondiale qui croit par son vieillissement.\",\n",
       " 'Chine : destructions massives de mosquées dans le Xinjiang https://t.co/yJIv7bzwoA via @Le_Figaro',\n",
       " \"On arrive au placement de produit: 'il est nécessaire d'assainir un microbiote par une cure de nettoyage' (ici 21 jours d'argile ou une cure d'huile essentielle d'origan, de cannelier de Chine, de citron et de menthe poivrée). Et on rajoute... des probiotiques. https://t.co/buI3XALaFj\",\n",
       " 'Il y a donc des gens ici qui affirment au premier degré que la France devrait avoir plus honte de son histoire que l’Iran ou la Chine. Et ils n’en ressentent aucune gêne. https://t.co/n0NnrkexeB',\n",
       " '#EuroToques lance une pétition 👍 Les gens de bon sens se mobilisent ! enfin ! PAS DE VIANDE  DE LABORATOIRE!   #Simoncini, @Xavier75 et  #Granjon iront manger leur Mcwrap Veggie chez Mac Donald! #NonAuRip #libertéruralité https://t.co/W1CiLgWna0',\n",
       " \"La Chine qui tient les rênes de l'économie mondiale honore ses vieux selon une tradition plus que millénaire. La France les gave sur nos impôts en sacrifiant les chômeurs +55 ans: Jack Lang (81 ans @imarabe ), Juppé (75 ans @Conseil_constit ), Larcher (71 ans, président @Senat ) https://t.co/35OmtcEJTm\",\n",
       " \"La Génération Z (personnes nées en 1997 et au-delà) accepte les #OGM, mais 72 % ne sont pas prêts à manger de la viande cultivée en laboratoire (souvent appelée 'fausse viande'), selon une enquête. https://t.co/WFgLNiW5rX\",\n",
       " \"L'escroquerie à la framboise #bio. Des baies congelées cultivées en Chine étaient expédiées vers une usine chilienne ; reconditionnées en produits #bio de qualité supérieure 'cultivés au Chili' ; puis livrées à des consommateurs canadiens au prix fort. https://t.co/gfzv7wjw7X https://t.co/iao2xlcy5Q\",\n",
       " \"Bravo ! Sur le fond : une belle reconnaissance d'une avancée scientifique dans le domaine de la #génétique doublé d'un message #Femmes & #Science : la première fois qu’un Nobel scientifique est remis à un duo 100 % féminin https://t.co/vE2En8TUdn\",\n",
       " \"un copain décide de mettre un appart sur AirBnB . Il recoit un mail traduit par google provenant de chine . Des étudiants chinois sont intéressés . Il se méfie mais vérifie tout et ca à l'air de coller. Les mecs sont d'authentiques étudiants chinois qui viennent étudier a Paris.\",\n",
       " 'Ce qui est savoureux en France et notamment à Paris c’est que c’est avec leurs propres impôts que les gens financent leur suicide ... un peu comme la Chine qui envoie la facture de la balle à la famille du condamné https://t.co/Kif0y9osrz',\n",
       " 'Question à cent sous : on l’emploie quand en agriculture ? \\u2066je demande à deux grands experts du principe de peur : @yjadot\\u2069 et \\u2066@N_Hulot\\u2069  Crispr, le couteau suisse génétique couvert de récompenses https://t.co/TldcBsi9Ts via @Le_Figaro',\n",
       " \"Grenoble, laboratoire de l'ensauvagement https://t.co/c740T05UdB via @Valeurs\"]"
      ]
     },
     "execution_count": 31,
     "metadata": {},
     "output_type": "execute_result"
    }
   ],
   "source": [
    "tweets_in_graph(graphs[0], df)"
   ]
  },
  {
   "cell_type": "code",
   "execution_count": null,
   "metadata": {},
   "outputs": [],
   "source": []
  }
 ],
 "metadata": {
  "kernelspec": {
   "display_name": "Python 3",
   "language": "python",
   "name": "python3"
  },
  "language_info": {
   "codemirror_mode": {
    "name": "ipython",
    "version": 3
   },
   "file_extension": ".py",
   "mimetype": "text/x-python",
   "name": "python",
   "nbconvert_exporter": "python",
   "pygments_lexer": "ipython3",
   "version": "3.7.9"
  }
 },
 "nbformat": 4,
 "nbformat_minor": 4
}

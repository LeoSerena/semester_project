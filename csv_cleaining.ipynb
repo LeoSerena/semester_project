{
 "cells": [
  {
   "cell_type": "markdown",
   "metadata": {},
   "source": [
    "# CSV cleaning"
   ]
  },
  {
   "cell_type": "markdown",
   "metadata": {},
   "source": [
    "## Imports"
   ]
  },
  {
   "cell_type": "code",
   "execution_count": 1,
   "metadata": {},
   "outputs": [],
   "source": [
    "import pandas as pd\n",
    "import numpy as np"
   ]
  },
  {
   "cell_type": "markdown",
   "metadata": {},
   "source": [
    "## Read data"
   ]
  },
  {
   "cell_type": "code",
   "execution_count": 2,
   "metadata": {},
   "outputs": [],
   "source": [
    "tweets_df = pd.read_csv('french_masks_with_accounts.csv')\n",
    "rtt_df = pd.read_csv('retweets_masks.csv')"
   ]
  },
  {
   "cell_type": "code",
   "execution_count": 3,
   "metadata": {},
   "outputs": [
    {
     "data": {
      "text/plain": [
       "Index([''id'', ''author_id'', ''author_username'', ''authors'', ''title'',\n",
       "       ''body'', ''country'', ''doc_type'', ''language'', ''publishing_date'',\n",
       "       ''main_document_id'', ''coordinates'', ''place'', ''user_country'',\n",
       "       ''retweet_count'', ''subject_classes'', ''natural_key'', ''url'',\n",
       "       ''document_urls'', ''base_popularity'', ''popularity'', ''sentiment'',\n",
       "       ''id'.1', ''description'', ''followers_count'', ''screen_name'',\n",
       "       ''global_tweet_count'', ''name'', ''favourites_count'',\n",
       "       ''friends_count'', ''language'.1', ''location'', ''extracted_country'',\n",
       "       ''time_zone'', ''created_at'', ''listed_count'',\n",
       "       ''project_tweet_count''],\n",
       "      dtype='object')"
      ]
     },
     "execution_count": 3,
     "metadata": {},
     "output_type": "execute_result"
    }
   ],
   "source": [
    "tweets_df.columns"
   ]
  },
  {
   "cell_type": "code",
   "execution_count": 18,
   "metadata": {},
   "outputs": [
    {
     "data": {
      "text/plain": [
       "array(['11'], dtype='<U2')"
      ]
     },
     "execution_count": 18,
     "metadata": {},
     "output_type": "execute_result"
    }
   ],
   "source": [
    "D = [x.split(' ')[0] for x in np.unique(tweets_df[\"'publishing_date'\"])]\n",
    "np.unique([x.split('-')[1] for x in D])"
   ]
  },
  {
   "cell_type": "code",
   "execution_count": 21,
   "metadata": {},
   "outputs": [
    {
     "data": {
      "text/plain": [
       "array(['10', '11'], dtype='<U2')"
      ]
     },
     "execution_count": 21,
     "metadata": {},
     "output_type": "execute_result"
    }
   ],
   "source": [
    "np.unique([x.split('-')[2] for x in D])"
   ]
  },
  {
   "cell_type": "code",
   "execution_count": 53,
   "metadata": {},
   "outputs": [
    {
     "data": {
      "text/plain": [
       "832"
      ]
     },
     "execution_count": 53,
     "metadata": {},
     "output_type": "execute_result"
    }
   ],
   "source": [
    "len(tweets_df[tweets_df[\"'retweet_count'\"] > 1])"
   ]
  },
  {
   "cell_type": "code",
   "execution_count": 44,
   "metadata": {},
   "outputs": [
    {
     "data": {
      "text/html": [
       "<div>\n",
       "<style scoped>\n",
       "    .dataframe tbody tr th:only-of-type {\n",
       "        vertical-align: middle;\n",
       "    }\n",
       "\n",
       "    .dataframe tbody tr th {\n",
       "        vertical-align: top;\n",
       "    }\n",
       "\n",
       "    .dataframe thead th {\n",
       "        text-align: right;\n",
       "    }\n",
       "</style>\n",
       "<table border=\"1\" class=\"dataframe\">\n",
       "  <thead>\n",
       "    <tr style=\"text-align: right;\">\n",
       "      <th></th>\n",
       "      <th>[('id'</th>\n",
       "      <th>)</th>\n",
       "      <th>('original_tweet_id'</th>\n",
       "      <th>).1</th>\n",
       "      <th>('author_id'</th>\n",
       "      <th>).2</th>\n",
       "      <th>('retweeted_date'</th>\n",
       "      <th>)]</th>\n",
       "    </tr>\n",
       "  </thead>\n",
       "  <tbody>\n",
       "    <tr>\n",
       "      <th>id</th>\n",
       "      <td>1326480087127089152</td>\n",
       "      <td>1326479804108042241</td>\n",
       "      <td>278494947</td>\n",
       "      <td>2020-11-11 11:01:12</td>\n",
       "      <td>NaN</td>\n",
       "      <td>NaN</td>\n",
       "      <td>NaN</td>\n",
       "      <td>NaN</td>\n",
       "    </tr>\n",
       "    <tr>\n",
       "      <th>original_tweet_id</th>\n",
       "      <td>1326480641807028225</td>\n",
       "      <td>1326479804108042241</td>\n",
       "      <td>482896065</td>\n",
       "      <td>2020-11-11 11:03:24</td>\n",
       "      <td>NaN</td>\n",
       "      <td>NaN</td>\n",
       "      <td>NaN</td>\n",
       "      <td>NaN</td>\n",
       "    </tr>\n",
       "    <tr>\n",
       "      <th>author_id</th>\n",
       "      <td>1326480753375457280</td>\n",
       "      <td>1326479804108042241</td>\n",
       "      <td>45188193</td>\n",
       "      <td>2020-11-11 11:03:51</td>\n",
       "      <td>NaN</td>\n",
       "      <td>NaN</td>\n",
       "      <td>NaN</td>\n",
       "      <td>NaN</td>\n",
       "    </tr>\n",
       "    <tr>\n",
       "      <th>retweet_date</th>\n",
       "      <td>1326481411956674566</td>\n",
       "      <td>1326479804108042241</td>\n",
       "      <td>17593012</td>\n",
       "      <td>2020-11-11 11:06:28</td>\n",
       "      <td>NaN</td>\n",
       "      <td>NaN</td>\n",
       "      <td>NaN</td>\n",
       "      <td>NaN</td>\n",
       "    </tr>\n",
       "    <tr>\n",
       "      <th>a</th>\n",
       "      <td>1326482199051440129</td>\n",
       "      <td>1326479804108042241</td>\n",
       "      <td>80557178</td>\n",
       "      <td>2020-11-11 11:09:35</td>\n",
       "      <td>NaN</td>\n",
       "      <td>NaN</td>\n",
       "      <td>NaN</td>\n",
       "      <td>NaN</td>\n",
       "    </tr>\n",
       "  </tbody>\n",
       "</table>\n",
       "</div>"
      ],
      "text/plain": [
       "                                [('id'                    )  \\\n",
       "id                 1326480087127089152  1326479804108042241   \n",
       "original_tweet_id  1326480641807028225  1326479804108042241   \n",
       "author_id          1326480753375457280  1326479804108042241   \n",
       "retweet_date       1326481411956674566  1326479804108042241   \n",
       "a                  1326482199051440129  1326479804108042241   \n",
       "\n",
       "                    ('original_tweet_id'                  ).1   ('author_id'  \\\n",
       "id                             278494947  2020-11-11 11:01:12            NaN   \n",
       "original_tweet_id              482896065  2020-11-11 11:03:24            NaN   \n",
       "author_id                       45188193  2020-11-11 11:03:51            NaN   \n",
       "retweet_date                    17593012  2020-11-11 11:06:28            NaN   \n",
       "a                               80557178  2020-11-11 11:09:35            NaN   \n",
       "\n",
       "                   ).2   ('retweeted_date'  )]  \n",
       "id                 NaN                 NaN NaN  \n",
       "original_tweet_id  NaN                 NaN NaN  \n",
       "author_id          NaN                 NaN NaN  \n",
       "retweet_date       NaN                 NaN NaN  \n",
       "a                  NaN                 NaN NaN  "
      ]
     },
     "execution_count": 44,
     "metadata": {},
     "output_type": "execute_result"
    }
   ],
   "source": [
    "rtt_df = rtt_df.rename(index = {0 : 'id', 1 : 'original_tweet_id', 2 : 'author_id', 3 : 'retweet_date', 4 : 'a', 5 : 'b', 6 : 'c', 7 : 'd'})\n",
    "rtt_df.head()"
   ]
  },
  {
   "cell_type": "markdown",
   "metadata": {},
   "source": [
    "## Data insight"
   ]
  },
  {
   "cell_type": "markdown",
   "metadata": {},
   "source": [
    "### Tweets csv"
   ]
  },
  {
   "cell_type": "code",
   "execution_count": 5,
   "metadata": {},
   "outputs": [
    {
     "data": {
      "text/plain": [
       "Index([''id'', ' 'author_id'', ' 'author_username'', ' 'authors'', ' 'title'',\n",
       "       ' 'body'', ' 'country'', ' 'doc_type'', ' 'language'',\n",
       "       ' 'publishing_date'', ' 'main_document_id'', ' 'coordinates'',\n",
       "       ' 'place'', ' 'user_country'', ' 'retweet_count'', ' 'subject_classes'',\n",
       "       ' 'natural_key'', ' 'url'', ' 'document_urls'', ' 'base_popularity'',\n",
       "       ' 'popularity'', ' 'sentiment'', ''id'.1', ' 'description'',\n",
       "       ' 'followers_count'', ' 'screen_name'', ' 'global_tweet_count'',\n",
       "       ' 'name'', ' 'favourites_count'', ' 'friends_count'', ' 'language'.1',\n",
       "       ' 'location'', ' 'extracted_country'', ' 'time_zone'', ' 'created_at'',\n",
       "       ' 'listed_count'', ' 'project_tweet_count''],\n",
       "      dtype='object')"
      ]
     },
     "execution_count": 5,
     "metadata": {},
     "output_type": "execute_result"
    }
   ],
   "source": [
    "tweets_df.columns"
   ]
  },
  {
   "cell_type": "code",
   "execution_count": 6,
   "metadata": {},
   "outputs": [
    {
     "name": "stdout",
     "output_type": "stream",
     "text": [
      "['None']\n",
      "['None']\n",
      "['None']\n",
      "['twitter']\n",
      "['fr']\n",
      "['None']\n",
      "['None']\n",
      "['None']\n",
      "['None']\n"
     ]
    }
   ],
   "source": [
    "# author_id has nothing\n",
    "print(np.unique(tweets_df[\" 'author_username'\"]))\n",
    "# authors as nothing\n",
    "print(np.unique(tweets_df[\" 'authors'\"]))\n",
    "# title as nothing\n",
    "print(np.unique(tweets_df[\" 'title'\"]))\n",
    "# doctype is all twitter\n",
    "print(np.unique(tweets_df[\" 'doc_type'\"]))\n",
    "# language is all fr\n",
    "print(np.unique(tweets_df[\" 'language'\"]))\n",
    "# main_document_id has none\n",
    "print(np.unique(tweets_df[\" 'main_document_id'\"]))\n",
    "# subject_classes has none\n",
    "print(np.unique(tweets_df[\" 'subject_classes'\"]))\n",
    "# language.1 has none\n",
    "print(np.unique(tweets_df[\" 'language'.1\"]))\n",
    "# time_zone has none\n",
    "print(np.unique(tweets_df[\" 'time_zone'\"]))\n",
    "\n",
    "to_remove = [\n",
    "    \" 'author_username'\",\n",
    "    \" 'authors'\",\n",
    "    \" 'title'\",\n",
    "    \" 'doc_type'\",\n",
    "    \" 'language'\",\n",
    "    \" 'main_document_id'\",\n",
    "    \" 'subject_classes'\",\n",
    "    \" 'language'.1\",\n",
    "    \" 'time_zone'\"\n",
    "]\n",
    "\n",
    "tweets_df = tweets_df.drop(columns = to_remove)"
   ]
  },
  {
   "cell_type": "code",
   "execution_count": 6,
   "metadata": {},
   "outputs": [],
   "source": [
    "filtered_headers = [header.replace(\"'\",'').replace(' ','') for header in tweets_df.columns]\n",
    "d = {}\n",
    "for i in range(len(tweets_df.columns)):\n",
    "    d[tweets_df.columns[i]] = filtered_headers[i]\n",
    "    \n",
    "tweets_df = tweets_df.rename(columns = d)"
   ]
  },
  {
   "cell_type": "code",
   "execution_count": 45,
   "metadata": {},
   "outputs": [
    {
     "data": {
      "text/html": [
       "<div>\n",
       "<style scoped>\n",
       "    .dataframe tbody tr th:only-of-type {\n",
       "        vertical-align: middle;\n",
       "    }\n",
       "\n",
       "    .dataframe tbody tr th {\n",
       "        vertical-align: top;\n",
       "    }\n",
       "\n",
       "    .dataframe thead th {\n",
       "        text-align: right;\n",
       "    }\n",
       "</style>\n",
       "<table border=\"1\" class=\"dataframe\">\n",
       "  <thead>\n",
       "    <tr style=\"text-align: right;\">\n",
       "      <th></th>\n",
       "      <th>'id'</th>\n",
       "      <th>'author_id'</th>\n",
       "      <th>'author_username'</th>\n",
       "      <th>'authors'</th>\n",
       "      <th>'title'</th>\n",
       "      <th>'body'</th>\n",
       "      <th>'country'</th>\n",
       "      <th>'doc_type'</th>\n",
       "      <th>'language'</th>\n",
       "      <th>'publishing_date'</th>\n",
       "      <th>...</th>\n",
       "      <th>'name'</th>\n",
       "      <th>'favourites_count'</th>\n",
       "      <th>'friends_count'</th>\n",
       "      <th>'language'.1</th>\n",
       "      <th>'location'</th>\n",
       "      <th>'extracted_country'</th>\n",
       "      <th>'time_zone'</th>\n",
       "      <th>'created_at'</th>\n",
       "      <th>'listed_count'</th>\n",
       "      <th>'project_tweet_count'</th>\n",
       "    </tr>\n",
       "  </thead>\n",
       "  <tbody>\n",
       "    <tr>\n",
       "      <th>0</th>\n",
       "      <td>ab1900e2-2429-11eb-9b3e-02420a000016</td>\n",
       "      <td>1271845373049528328</td>\n",
       "      <td>None</td>\n",
       "      <td>None</td>\n",
       "      <td>None</td>\n",
       "      <td>@godessjihyoo Je masque tt vaut mieux être safe 💀</td>\n",
       "      <td>None</td>\n",
       "      <td>twitter</td>\n",
       "      <td>fr</td>\n",
       "      <td>2020-11-11 13:21:14</td>\n",
       "      <td>...</td>\n",
       "      <td>𝑩𝒓𝒆𝒂𝒕𝒉 𝒐𝒇 𝒍𝒐𝒗𝒆 : 𝑳𝒂𝒔𝒕 𝑷𝒊𝒆𝒄𝒆💙</td>\n",
       "      <td>29716</td>\n",
       "      <td>447</td>\n",
       "      <td>None</td>\n",
       "      <td>𝒲𝒾𝓉𝒽  𝒮ℯ𝒾𝒿𝒾</td>\n",
       "      <td>None</td>\n",
       "      <td>None</td>\n",
       "      <td>2020-06-13 16:42:32</td>\n",
       "      <td>4</td>\n",
       "      <td>1</td>\n",
       "    </tr>\n",
       "    <tr>\n",
       "      <th>1</th>\n",
       "      <td>5b92147c-242a-11eb-9b3e-02420a000016</td>\n",
       "      <td>1236464522</td>\n",
       "      <td>None</td>\n",
       "      <td>None</td>\n",
       "      <td>None</td>\n",
       "      <td>@W_Alhusseini C’est l’excuse des masques</td>\n",
       "      <td>None</td>\n",
       "      <td>twitter</td>\n",
       "      <td>fr</td>\n",
       "      <td>2020-11-11 06:46:00</td>\n",
       "      <td>...</td>\n",
       "      <td>$ch'T' M@ry&amp;l'Hain€</td>\n",
       "      <td>71159</td>\n",
       "      <td>2844</td>\n",
       "      <td>None</td>\n",
       "      <td>france</td>\n",
       "      <td>FR</td>\n",
       "      <td>None</td>\n",
       "      <td>2013-03-02 21:12:35</td>\n",
       "      <td>31</td>\n",
       "      <td>1</td>\n",
       "    </tr>\n",
       "    <tr>\n",
       "      <th>2</th>\n",
       "      <td>c56ec88c-2429-11eb-9b3e-02420a000016</td>\n",
       "      <td>788460678143172609</td>\n",
       "      <td>None</td>\n",
       "      <td>None</td>\n",
       "      <td>None</td>\n",
       "      <td>En sah les filles qui arrive à faire tenir son...</td>\n",
       "      <td>None</td>\n",
       "      <td>twitter</td>\n",
       "      <td>fr</td>\n",
       "      <td>2020-11-11 12:27:47</td>\n",
       "      <td>...</td>\n",
       "      <td>morveillee</td>\n",
       "      <td>13835</td>\n",
       "      <td>689</td>\n",
       "      <td>None</td>\n",
       "      <td>dans tes rêves</td>\n",
       "      <td>AU</td>\n",
       "      <td>None</td>\n",
       "      <td>2016-10-18 19:24:09</td>\n",
       "      <td>0</td>\n",
       "      <td>1</td>\n",
       "    </tr>\n",
       "    <tr>\n",
       "      <th>3</th>\n",
       "      <td>1e2e227e-242a-11eb-9b3e-02420a000016</td>\n",
       "      <td>1317459202823118849</td>\n",
       "      <td>None</td>\n",
       "      <td>None</td>\n",
       "      <td>None</td>\n",
       "      <td>MOI QUAND JE RENCONTRE L’OUBLIE DE MON MASQUE ...</td>\n",
       "      <td>None</td>\n",
       "      <td>twitter</td>\n",
       "      <td>fr</td>\n",
       "      <td>2020-11-11 09:32:26</td>\n",
       "      <td>...</td>\n",
       "      <td>LÉLÉLÉ</td>\n",
       "      <td>3</td>\n",
       "      <td>14</td>\n",
       "      <td>None</td>\n",
       "      <td>NaN</td>\n",
       "      <td>None</td>\n",
       "      <td>None</td>\n",
       "      <td>2020-10-17 13:35:54</td>\n",
       "      <td>0</td>\n",
       "      <td>1</td>\n",
       "    </tr>\n",
       "    <tr>\n",
       "      <th>4</th>\n",
       "      <td>5939afe6-242a-11eb-9b3e-02420a000016</td>\n",
       "      <td>1217094231031980034</td>\n",
       "      <td>None</td>\n",
       "      <td>None</td>\n",
       "      <td>None</td>\n",
       "      <td>@moon_bio 2/2  Par contre, épidémie d’infectio...</td>\n",
       "      <td>None</td>\n",
       "      <td>twitter</td>\n",
       "      <td>fr</td>\n",
       "      <td>2020-11-11 07:02:06</td>\n",
       "      <td>...</td>\n",
       "      <td>Pinsolle Typhaine</td>\n",
       "      <td>33545</td>\n",
       "      <td>160</td>\n",
       "      <td>None</td>\n",
       "      <td>Paris, France</td>\n",
       "      <td>None</td>\n",
       "      <td>None</td>\n",
       "      <td>2020-01-14 14:41:30</td>\n",
       "      <td>7</td>\n",
       "      <td>1</td>\n",
       "    </tr>\n",
       "  </tbody>\n",
       "</table>\n",
       "<p>5 rows × 37 columns</p>\n",
       "</div>"
      ],
      "text/plain": [
       "                                   'id'          'author_id'  \\\n",
       "0  ab1900e2-2429-11eb-9b3e-02420a000016  1271845373049528328   \n",
       "1  5b92147c-242a-11eb-9b3e-02420a000016           1236464522   \n",
       "2  c56ec88c-2429-11eb-9b3e-02420a000016   788460678143172609   \n",
       "3  1e2e227e-242a-11eb-9b3e-02420a000016  1317459202823118849   \n",
       "4  5939afe6-242a-11eb-9b3e-02420a000016  1217094231031980034   \n",
       "\n",
       "  'author_username' 'authors' 'title'  \\\n",
       "0              None      None    None   \n",
       "1              None      None    None   \n",
       "2              None      None    None   \n",
       "3              None      None    None   \n",
       "4              None      None    None   \n",
       "\n",
       "                                              'body' 'country' 'doc_type'  \\\n",
       "0  @godessjihyoo Je masque tt vaut mieux être safe 💀      None    twitter   \n",
       "1           @W_Alhusseini C’est l’excuse des masques      None    twitter   \n",
       "2  En sah les filles qui arrive à faire tenir son...      None    twitter   \n",
       "3  MOI QUAND JE RENCONTRE L’OUBLIE DE MON MASQUE ...      None    twitter   \n",
       "4  @moon_bio 2/2  Par contre, épidémie d’infectio...      None    twitter   \n",
       "\n",
       "  'language'    'publishing_date'  ...                        'name'  \\\n",
       "0         fr  2020-11-11 13:21:14  ...  𝑩𝒓𝒆𝒂𝒕𝒉 𝒐𝒇 𝒍𝒐𝒗𝒆 : 𝑳𝒂𝒔𝒕 𝑷𝒊𝒆𝒄𝒆💙   \n",
       "1         fr  2020-11-11 06:46:00  ...           $ch'T' M@ry&l'Hain€   \n",
       "2         fr  2020-11-11 12:27:47  ...                    morveillee   \n",
       "3         fr  2020-11-11 09:32:26  ...                        LÉLÉLÉ   \n",
       "4         fr  2020-11-11 07:02:06  ...             Pinsolle Typhaine   \n",
       "\n",
       "  'favourites_count' 'friends_count' 'language'.1       'location'  \\\n",
       "0              29716             447         None      𝒲𝒾𝓉𝒽  𝒮ℯ𝒾𝒿𝒾   \n",
       "1              71159            2844         None           france   \n",
       "2              13835             689         None  dans tes rêves    \n",
       "3                  3              14         None              NaN   \n",
       "4              33545             160         None    Paris, France   \n",
       "\n",
       "  'extracted_country'  'time_zone'         'created_at' 'listed_count'  \\\n",
       "0                None         None  2020-06-13 16:42:32              4   \n",
       "1                  FR         None  2013-03-02 21:12:35             31   \n",
       "2                  AU         None  2016-10-18 19:24:09              0   \n",
       "3                None         None  2020-10-17 13:35:54              0   \n",
       "4                None         None  2020-01-14 14:41:30              7   \n",
       "\n",
       "   'project_tweet_count'  \n",
       "0                      1  \n",
       "1                      1  \n",
       "2                      1  \n",
       "3                      1  \n",
       "4                      1  \n",
       "\n",
       "[5 rows x 37 columns]"
      ]
     },
     "execution_count": 45,
     "metadata": {},
     "output_type": "execute_result"
    }
   ],
   "source": [
    "tweets_df.head()"
   ]
  },
  {
   "cell_type": "markdown",
   "metadata": {},
   "source": [
    "### Retweet csv"
   ]
  },
  {
   "cell_type": "code",
   "execution_count": 8,
   "metadata": {},
   "outputs": [
    {
     "data": {
      "text/html": [
       "<div>\n",
       "<style scoped>\n",
       "    .dataframe tbody tr th:only-of-type {\n",
       "        vertical-align: middle;\n",
       "    }\n",
       "\n",
       "    .dataframe tbody tr th {\n",
       "        vertical-align: top;\n",
       "    }\n",
       "\n",
       "    .dataframe thead th {\n",
       "        text-align: right;\n",
       "    }\n",
       "</style>\n",
       "<table border=\"1\" class=\"dataframe\">\n",
       "  <thead>\n",
       "    <tr style=\"text-align: right;\">\n",
       "      <th></th>\n",
       "      <th>'id'</th>\n",
       "      <th>'original_tweet_id'</th>\n",
       "      <th>'author_id'</th>\n",
       "      <th>retweeted_date'</th>\n",
       "      <th>Unnamed: 4</th>\n",
       "    </tr>\n",
       "  </thead>\n",
       "  <tbody>\n",
       "    <tr>\n",
       "      <th>0</th>\n",
       "      <td>1312881822297018368</td>\n",
       "      <td>1312880858869583873</td>\n",
       "      <td>451270384</td>\n",
       "      <td>2020-10-04 22:26:33</td>\n",
       "      <td>NaN</td>\n",
       "    </tr>\n",
       "    <tr>\n",
       "      <th>1</th>\n",
       "      <td>1313859160769953792</td>\n",
       "      <td>1313856784210235400</td>\n",
       "      <td>724529113084637184</td>\n",
       "      <td>2020-10-07 15:10:08</td>\n",
       "      <td>NaN</td>\n",
       "    </tr>\n",
       "    <tr>\n",
       "      <th>2</th>\n",
       "      <td>1313910967168835587</td>\n",
       "      <td>1313856784210235400</td>\n",
       "      <td>700386863333433349</td>\n",
       "      <td>2020-10-07 18:36:00</td>\n",
       "      <td>NaN</td>\n",
       "    </tr>\n",
       "    <tr>\n",
       "      <th>3</th>\n",
       "      <td>1314585420810911746</td>\n",
       "      <td>1314542958335721473</td>\n",
       "      <td>191170947</td>\n",
       "      <td>2020-10-09 15:16:02</td>\n",
       "      <td>NaN</td>\n",
       "    </tr>\n",
       "    <tr>\n",
       "      <th>4</th>\n",
       "      <td>1312758994046509056</td>\n",
       "      <td>1312738895558258688</td>\n",
       "      <td>972925879398608900</td>\n",
       "      <td>2020-10-04 14:18:28</td>\n",
       "      <td>NaN</td>\n",
       "    </tr>\n",
       "  </tbody>\n",
       "</table>\n",
       "</div>"
      ],
      "text/plain": [
       "                  'id'   'original_tweet_id'         'author_id'  \\\n",
       "0  1312881822297018368   1312880858869583873           451270384   \n",
       "1  1313859160769953792   1313856784210235400  724529113084637184   \n",
       "2  1313910967168835587   1313856784210235400  700386863333433349   \n",
       "3  1314585420810911746   1314542958335721473           191170947   \n",
       "4  1312758994046509056   1312738895558258688  972925879398608900   \n",
       "\n",
       "       retweeted_date'  Unnamed: 4  \n",
       "0  2020-10-04 22:26:33         NaN  \n",
       "1  2020-10-07 15:10:08         NaN  \n",
       "2  2020-10-07 18:36:00         NaN  \n",
       "3  2020-10-09 15:16:02         NaN  \n",
       "4  2020-10-04 14:18:28         NaN  "
      ]
     },
     "execution_count": 8,
     "metadata": {},
     "output_type": "execute_result"
    }
   ],
   "source": [
    "rtt_df.head()"
   ]
  },
  {
   "cell_type": "code",
   "execution_count": 9,
   "metadata": {},
   "outputs": [],
   "source": [
    "rtt_df = rtt_df.drop(columns = 'Unnamed: 4')"
   ]
  },
  {
   "cell_type": "code",
   "execution_count": 10,
   "metadata": {},
   "outputs": [
    {
     "data": {
      "text/plain": [
       "Index([''id'', ' 'original_tweet_id'', ' 'author_id'', ' retweeted_date''], dtype='object')"
      ]
     },
     "execution_count": 10,
     "metadata": {},
     "output_type": "execute_result"
    }
   ],
   "source": [
    "rtt_df.columns"
   ]
  },
  {
   "cell_type": "code",
   "execution_count": 11,
   "metadata": {},
   "outputs": [],
   "source": [
    "filtered_headers = [header.replace(\"'\",'').replace(' ','') for header in rtt_df.columns]\n",
    "d3 = {}\n",
    "for i in range(len(rtt_df.columns)):\n",
    "    d3[rtt_df.columns[i]] = filtered_headers[i]\n",
    "    \n",
    "rtt_df = rtt_df.rename(columns = d3)"
   ]
  },
  {
   "cell_type": "code",
   "execution_count": 12,
   "metadata": {},
   "outputs": [
    {
     "data": {
      "text/html": [
       "<div>\n",
       "<style scoped>\n",
       "    .dataframe tbody tr th:only-of-type {\n",
       "        vertical-align: middle;\n",
       "    }\n",
       "\n",
       "    .dataframe tbody tr th {\n",
       "        vertical-align: top;\n",
       "    }\n",
       "\n",
       "    .dataframe thead th {\n",
       "        text-align: right;\n",
       "    }\n",
       "</style>\n",
       "<table border=\"1\" class=\"dataframe\">\n",
       "  <thead>\n",
       "    <tr style=\"text-align: right;\">\n",
       "      <th></th>\n",
       "      <th>id</th>\n",
       "      <th>original_tweet_id</th>\n",
       "      <th>author_id</th>\n",
       "      <th>retweeted_date</th>\n",
       "    </tr>\n",
       "  </thead>\n",
       "  <tbody>\n",
       "    <tr>\n",
       "      <th>0</th>\n",
       "      <td>1312881822297018368</td>\n",
       "      <td>1312880858869583873</td>\n",
       "      <td>451270384</td>\n",
       "      <td>2020-10-04 22:26:33</td>\n",
       "    </tr>\n",
       "    <tr>\n",
       "      <th>1</th>\n",
       "      <td>1313859160769953792</td>\n",
       "      <td>1313856784210235400</td>\n",
       "      <td>724529113084637184</td>\n",
       "      <td>2020-10-07 15:10:08</td>\n",
       "    </tr>\n",
       "    <tr>\n",
       "      <th>2</th>\n",
       "      <td>1313910967168835587</td>\n",
       "      <td>1313856784210235400</td>\n",
       "      <td>700386863333433349</td>\n",
       "      <td>2020-10-07 18:36:00</td>\n",
       "    </tr>\n",
       "    <tr>\n",
       "      <th>3</th>\n",
       "      <td>1314585420810911746</td>\n",
       "      <td>1314542958335721473</td>\n",
       "      <td>191170947</td>\n",
       "      <td>2020-10-09 15:16:02</td>\n",
       "    </tr>\n",
       "    <tr>\n",
       "      <th>4</th>\n",
       "      <td>1312758994046509056</td>\n",
       "      <td>1312738895558258688</td>\n",
       "      <td>972925879398608900</td>\n",
       "      <td>2020-10-04 14:18:28</td>\n",
       "    </tr>\n",
       "  </tbody>\n",
       "</table>\n",
       "</div>"
      ],
      "text/plain": [
       "                    id    original_tweet_id           author_id  \\\n",
       "0  1312881822297018368  1312880858869583873           451270384   \n",
       "1  1313859160769953792  1313856784210235400  724529113084637184   \n",
       "2  1313910967168835587  1313856784210235400  700386863333433349   \n",
       "3  1314585420810911746  1314542958335721473           191170947   \n",
       "4  1312758994046509056  1312738895558258688  972925879398608900   \n",
       "\n",
       "        retweeted_date  \n",
       "0  2020-10-04 22:26:33  \n",
       "1  2020-10-07 15:10:08  \n",
       "2  2020-10-07 18:36:00  \n",
       "3  2020-10-09 15:16:02  \n",
       "4  2020-10-04 14:18:28  "
      ]
     },
     "execution_count": 12,
     "metadata": {},
     "output_type": "execute_result"
    }
   ],
   "source": [
    "rtt_df.head()"
   ]
  },
  {
   "cell_type": "markdown",
   "metadata": {},
   "source": [
    "### Joining tweets and retweets"
   ]
  },
  {
   "cell_type": "code",
   "execution_count": 14,
   "metadata": {},
   "outputs": [],
   "source": [
    "original_tweets_id = []\n",
    "author_ids = []\n",
    "retweet_dates = []\n",
    "\n",
    "groups = rtt_df.groupby(\"original_tweet_id\").groups\n",
    "for k in groups.keys():\n",
    "    l_a = []\n",
    "    l_r = []\n",
    "    original_tweets_id.append(k)\n",
    "    for index in groups[k]:\n",
    "        line = rtt_df.iloc[[index]]\n",
    "        l_a.append(int(line[\"author_id\"]))\n",
    "        l_r.append(str(line[\"retweeted_date\"]))\n",
    "    author_ids.append(l_a)\n",
    "    retweet_dates.append(l_r)\n",
    "            "
   ]
  },
  {
   "cell_type": "code",
   "execution_count": 15,
   "metadata": {},
   "outputs": [],
   "source": [
    "df_temp = pd.DataFrame()\n",
    "df_temp['natural_key'] = original_tweets_id\n",
    "df_temp['rtt_author_ids'] = author_ids\n",
    "df_temp['retweet_dates'] = retweet_dates"
   ]
  },
  {
   "cell_type": "code",
   "execution_count": 16,
   "metadata": {},
   "outputs": [],
   "source": [
    "df_temp = df_temp.set_index('natural_key')\n",
    "tweets_df = tweets_df.set_index('natural_key')"
   ]
  },
  {
   "cell_type": "code",
   "execution_count": 17,
   "metadata": {},
   "outputs": [],
   "source": [
    "df_final = tweets_df.join(df_temp)\n",
    "df_final.to_csv('tweets_clean.csv', index = False)"
   ]
  }
 ],
 "metadata": {
  "kernelspec": {
   "display_name": "Python 3",
   "language": "python",
   "name": "python3"
  },
  "language_info": {
   "codemirror_mode": {
    "name": "ipython",
    "version": 3
   },
   "file_extension": ".py",
   "mimetype": "text/x-python",
   "name": "python",
   "nbconvert_exporter": "python",
   "pygments_lexer": "ipython3",
   "version": "3.7.9"
  }
 },
 "nbformat": 4,
 "nbformat_minor": 4
}

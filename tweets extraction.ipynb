{
 "cells": [
  {
   "cell_type": "code",
   "execution_count": 1,
   "metadata": {},
   "outputs": [],
   "source": [
    "import pickle\n",
    "import tweepy\n",
    "import pandas as pd\n",
    "import csv\n",
    "import numpy as np\n",
    "import os\n",
    "from tqdm import tqdm"
   ]
  },
  {
   "cell_type": "code",
   "execution_count": 2,
   "metadata": {},
   "outputs": [],
   "source": [
    "with open(os.path.join('data', 'user_ids'), 'rb') as f:\n",
    "    user_ids = pickle.load(f)"
   ]
  },
  {
   "cell_type": "code",
   "execution_count": 3,
   "metadata": {},
   "outputs": [],
   "source": [
    "#auth = tweepy.OAuthHandler('', '')\n",
    "#auth.set_access_token('', '')\n",
    "\n",
    "#api = tweepy.API(auth, wait_on_rate_limit = True, wait_on_rate_limit_notify = True)"
   ]
  },
  {
   "cell_type": "code",
   "execution_count": 4,
   "metadata": {},
   "outputs": [],
   "source": [
    "auth = tweepy.AppAuthHandler('', '')\n",
    "api = tweepy.API(auth, wait_on_rate_limit = True, wait_on_rate_limit_notify = True)"
   ]
  },
  {
   "cell_type": "code",
   "execution_count": 7,
   "metadata": {},
   "outputs": [
    {
     "name": "stderr",
     "output_type": "stream",
     "text": [
      "  0%|                                                                                           | 0/13 [00:00<?, ?it/s]Rate limit reached. Sleeping for: 817\n",
      "Rate limit reached. Sleeping for: 822\n",
      "  8%|██████                                                                         | 1/13 [30:58<6:11:39, 1858.31s/it]Rate limit reached. Sleeping for: 815\n",
      "Rate limit reached. Sleeping for: 801\n",
      "Rate limit reached. Sleeping for: 800\n",
      " 15%|███████████▊                                                                 | 2/13 [1:16:36<6:29:04, 2122.19s/it]Rate limit reached. Sleeping for: 804\n",
      "Rate limit reached. Sleeping for: 830\n",
      "Rate limit reached. Sleeping for: 827\n",
      "Rate limit reached. Sleeping for: 827\n",
      " 31%|███████████████████████▋                                                     | 4/13 [2:16:25<4:29:40, 1797.82s/it]Rate limit reached. Sleeping for: 833\n",
      "Rate limit reached. Sleeping for: 820\n",
      "Rate limit reached. Sleeping for: 820\n",
      " 46%|███████████████████████████████████▌                                         | 6/13 [3:01:32<2:49:07, 1449.59s/it]Rate limit reached. Sleeping for: 820\n",
      " 54%|█████████████████████████████████████████▍                                   | 7/13 [3:16:30<2:08:24, 1284.11s/it]Rate limit reached. Sleeping for: 825\n",
      "Rate limit reached. Sleeping for: 829\n",
      "Rate limit reached. Sleeping for: 830\n",
      "Rate limit reached. Sleeping for: 829\n",
      "Rate limit reached. Sleeping for: 830\n",
      "Rate limit reached. Sleeping for: 828\n",
      "Rate limit reached. Sleeping for: 829\n",
      "Rate limit reached. Sleeping for: 829\n",
      "Rate limit reached. Sleeping for: 831\n",
      " 62%|███████████████████████████████████████████████▍                             | 8/13 [5:32:35<4:39:01, 3348.35s/it]Rate limit reached. Sleeping for: 828\n",
      "Rate limit reached. Sleeping for: 822\n",
      "Rate limit reached. Sleeping for: 822\n",
      " 77%|██████████████████████████████████████████████████████████▍                 | 10/13 [6:17:59<1:50:39, 2213.27s/it]Rate limit reached. Sleeping for: 819\n",
      "Rate limit reached. Sleeping for: 822\n",
      " 85%|████████████████████████████████████████████████████████████████▎           | 11/13 [6:48:00<1:09:39, 2089.59s/it]Rate limit reached. Sleeping for: 822\n",
      "Rate limit reached. Sleeping for: 829\n",
      "Rate limit reached. Sleeping for: 829\n",
      "Rate limit reached. Sleeping for: 826\n",
      " 92%|████████████████████████████████████████████████████████████████████████      | 12/13 [7:48:22<42:29, 2549.09s/it]Rate limit reached. Sleeping for: 827\n",
      "Rate limit reached. Sleeping for: 824\n",
      "100%|██████████████████████████████████████████████████████████████████████████████| 13/13 [8:18:32<00:00, 2301.00s/it]\n"
     ]
    }
   ],
   "source": [
    "headers1 = [\n",
    "    'author_id',\n",
    "    'author_screen_name',\n",
    "    'status_id',\n",
    "    'created_at',\n",
    "    'body',\n",
    "    'lang',\n",
    "    'favorite_count',\n",
    "    'retweet_count'\n",
    "]\n",
    "\n",
    "headers2 = [\n",
    "    'tweet_id',\n",
    "    'retweet_author_id',\n",
    "    'retweet_author_screen_name',\n",
    "    'retweet_date'\n",
    "]\n",
    "\n",
    "# OPEN 2 csv files\n",
    "with open('tweets_2.csv', 'w', newline = '', encoding = 'utf-8') as f1:\n",
    "    writer1 = csv.DictWriter(f1, fieldnames = headers1)\n",
    "    writer1.writeheader()\n",
    "    with open('retweets_2.csv', 'w', newline = '') as f2:\n",
    "        writer2 = csv.DictWriter(f2, fieldnames = headers2)\n",
    "        writer2.writeheader()\n",
    "        \n",
    "        # iterate over all extracted users\n",
    "        for user_id in tqdm(user_ids[27:40]):\n",
    "            i = 0\n",
    "            for status in tweepy.Cursor(api.user_timeline, id = user_id, tweet_mode = 'extended').items():\n",
    "                author = status.user\n",
    "                \n",
    "                author_id = author.id\n",
    "                author_screen_name = author.screen_name\n",
    "                \n",
    "                status_id = status.id\n",
    "                created_at = status.created_at\n",
    "                \n",
    "                if hasattr(status, 'retweeted_status'):\n",
    "                    try:\n",
    "                        body = status.retweeted_status.extended_tweet['full_text']\n",
    "                    except AttributeError:\n",
    "                        body = status.retweeted_status.full_text\n",
    "                else:\n",
    "                    try:\n",
    "                        body = status.extended_tweet['full_text']\n",
    "                    except AttributeError:\n",
    "                        body = status.full_text\n",
    "                        \n",
    "                        \n",
    "                lang = status.lang\n",
    "                \n",
    "                favorite_count = status.favorite_count\n",
    "                retweet_count = status.retweet_count\n",
    "                \n",
    "                writer1.writerow({\n",
    "                    'author_id' : author_id,\n",
    "                    'author_screen_name' : author_screen_name,\n",
    "                    'status_id' : status_id,\n",
    "                    'created_at' : created_at,\n",
    "                    'body' : body,\n",
    "                    'lang' : lang,\n",
    "                    'favorite_count' : favorite_count,\n",
    "                    'retweet_count' : retweet_count\n",
    "                })\n",
    "                \n",
    "                retweets = status.retweets()\n",
    "                \n",
    "                for retweet in retweets:\n",
    "                    writer2.writerow({\n",
    "                        'tweet_id' : status.id,\n",
    "                        'retweet_author_id' : retweet.user.id,\n",
    "                        'retweet_author_screen_name' : retweet.user.screen_name,\n",
    "                        'retweet_date' : retweet.created_at\n",
    "                    })\n",
    "                    \n",
    "                day = status.created_at.day\n",
    "                month = status.created_at.month\n",
    "                if(month == 10 or day in [3,4,5,6,7,8,9]):\n",
    "                    break"
   ]
  },
  {
   "cell_type": "code",
   "execution_count": 9,
   "metadata": {},
   "outputs": [
    {
     "name": "stdout",
     "output_type": "stream",
     "text": [
      "date: 2 12\n"
     ]
    },
    {
     "name": "stderr",
     "output_type": "stream",
     "text": [
      "Rate limit reached. Sleeping for: 615\n",
      "Rate limit reached. Sleeping for: 835\n",
      "Rate limit reached. Sleeping for: 835\n",
      "Rate limit reached. Sleeping for: 834\n"
     ]
    },
    {
     "name": "stdout",
     "output_type": "stream",
     "text": [
      "date: 26 11\n"
     ]
    },
    {
     "name": "stderr",
     "output_type": "stream",
     "text": [
      "Rate limit reached. Sleeping for: 834\n",
      "Rate limit reached. Sleeping for: 835\n",
      "Rate limit reached. Sleeping for: 834\n"
     ]
    },
    {
     "name": "stdout",
     "output_type": "stream",
     "text": [
      "date: 23 11\n"
     ]
    }
   ],
   "source": [
    "headers1 = [\n",
    "    'author_id',\n",
    "    'author_screen_name',\n",
    "    'status_id',\n",
    "    'created_at',\n",
    "    'body',\n",
    "    'lang',\n",
    "    'favorite_count',\n",
    "    'retweet_count'\n",
    "]\n",
    "\n",
    "headers2 = [\n",
    "    'tweet_id',\n",
    "    'retweet_author_id',\n",
    "    'retweet_author_screen_name',\n",
    "    'retweet_date'\n",
    "]\n",
    "\n",
    "# OPEN 2 csv files\n",
    "with open('tweets_hod_up_1.csv', 'w', newline = '', encoding = 'utf-8') as f1:\n",
    "    writer1 = csv.DictWriter(f1, fieldnames = headers1)\n",
    "    writer1.writeheader()\n",
    "    with open('retweets__hold_up_1.csv', 'w', newline = '') as f2:\n",
    "        writer2 = csv.DictWriter(f2, fieldnames = headers2)\n",
    "        writer2.writeheader()\n",
    "        \n",
    "        # iterate over all extracted users\n",
    "        i = 0\n",
    "        for status in tweepy.Cursor(api.search, q = '#HoldUp', lang = 'fr', count = 300, tweet_mode = 'extended').items():\n",
    "            author = status.user\n",
    "\n",
    "            author_id = author.id\n",
    "            author_screen_name = author.screen_name\n",
    "\n",
    "            status_id = status.id\n",
    "            created_at = status.created_at\n",
    "\n",
    "            if hasattr(status, 'retweeted_status'):\n",
    "                try:\n",
    "                    body = status.retweeted_status.extended_tweet['full_text']\n",
    "                except AttributeError:\n",
    "                    body = status.retweeted_status.full_text\n",
    "            else:\n",
    "                try:\n",
    "                    body = status.extended_tweet['full_text']\n",
    "                except AttributeError:\n",
    "                    body = status.full_text\n",
    "            lang = status.lang\n",
    "\n",
    "            favorite_count = status.favorite_count\n",
    "            retweet_count = status.retweet_count\n",
    "\n",
    "            writer1.writerow({\n",
    "                'author_id' : author_id,\n",
    "                'author_screen_name' : author_screen_name,\n",
    "                'status_id' : status_id,\n",
    "                'created_at' : created_at,\n",
    "                'body' : body,\n",
    "                'lang' : lang,\n",
    "                'favorite_count' : favorite_count,\n",
    "                'retweet_count' : retweet_count\n",
    "            })\n",
    "\n",
    "            retweets = status.retweets()\n",
    "\n",
    "            for retweet in retweets:\n",
    "                writer2.writerow({\n",
    "                    'tweet_id' : status.id,\n",
    "                    'retweet_author_id' : retweet.user.id,\n",
    "                    'retweet_author_screen_name' : retweet.user.screen_name,\n",
    "                    'retweet_date' : retweet.created_at\n",
    "                })\n",
    "\n",
    "            day = status.created_at.day\n",
    "            month = status.created_at.month\n",
    "            \n",
    "            if(i%1000 == 0):\n",
    "                print('date: {} {}'.format(day, month))\n",
    "            i = i + 1\n",
    "            if(month < 10 or day in [3,4,5,6,7,8,9]):\n",
    "                break"
   ]
  },
  {
   "cell_type": "code",
   "execution_count": null,
   "metadata": {},
   "outputs": [],
   "source": []
  }
 ],
 "metadata": {
  "kernelspec": {
   "display_name": "Python 3",
   "language": "python",
   "name": "python3"
  },
  "language_info": {
   "codemirror_mode": {
    "name": "ipython",
    "version": 3
   },
   "file_extension": ".py",
   "mimetype": "text/x-python",
   "name": "python",
   "nbconvert_exporter": "python",
   "pygments_lexer": "ipython3",
   "version": "3.7.9"
  }
 },
 "nbformat": 4,
 "nbformat_minor": 4
}
